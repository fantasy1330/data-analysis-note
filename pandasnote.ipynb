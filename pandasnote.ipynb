{
 "cells": [
  {
   "cell_type": "markdown",
   "id": "71cc0940-4437-4df8-a7e0-946fb5be0419",
   "metadata": {},
   "source": [
    "# Series & DataFrame"
   ]
  },
  {
   "cell_type": "code",
   "execution_count": 2,
   "id": "77fb7cac-ee3a-49d2-8e1c-fbc3550ebd5f",
   "metadata": {},
   "outputs": [
    {
     "name": "stdout",
     "output_type": "stream",
     "text": [
      "0     1.0\n",
      "1     3.0\n",
      "2     6.0\n",
      "3    33.0\n",
      "4     NaN\n",
      "5     7.0\n",
      "dtype: float64\n"
     ]
    }
   ],
   "source": [
    "#創建Series\n",
    "import numpy as np\n",
    "import pandas as pd\n",
    "\n",
    "s = pd.Series([1,3,6,33,np.nan,7])\n",
    "print(s)"
   ]
  }
 ],
 "metadata": {
  "kernelspec": {
   "display_name": "Python 3 (ipykernel)",
   "language": "python",
   "name": "python3"
  },
  "language_info": {
   "codemirror_mode": {
    "name": "ipython",
    "version": 3
   },
   "file_extension": ".py",
   "mimetype": "text/x-python",
   "name": "python",
   "nbconvert_exporter": "python",
   "pygments_lexer": "ipython3",
   "version": "3.9.16"
  }
 },
 "nbformat": 4,
 "nbformat_minor": 5
}
