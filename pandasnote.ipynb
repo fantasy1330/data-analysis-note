{
 "cells": [
  {
   "cell_type": "markdown",
   "id": "71cc0940-4437-4df8-a7e0-946fb5be0419",
   "metadata": {},
   "source": [
    "# Series & DataFrame"
   ]
  },
  {
   "cell_type": "code",
   "execution_count": 2,
   "id": "77fb7cac-ee3a-49d2-8e1c-fbc3550ebd5f",
   "metadata": {},
   "outputs": [
    {
     "name": "stdout",
     "output_type": "stream",
     "text": [
      "0     1.0\n",
      "1     3.0\n",
      "2     6.0\n",
      "3    33.0\n",
      "4     NaN\n",
      "5     7.0\n",
      "dtype: float64\n"
     ]
    }
   ],
   "source": [
    "# 創建Series\n",
    "import numpy as np\n",
    "import pandas as pd\n",
    "\n",
    "s = pd.Series([1, 3, 6, 33, np.nan, 7])\n",
    "print(s)"
   ]
  },
  {
   "cell_type": "code",
   "execution_count": 8,
   "id": "f0309d6a-2a4b-4327-b907-544ec903a04c",
   "metadata": {},
   "outputs": [
    {
     "name": "stdout",
     "output_type": "stream",
     "text": [
      "DatetimeIndex(['2023-03-21', '2023-03-22', '2023-03-23', '2023-03-24',\n",
      "               '2023-03-25', '2023-03-26'],\n",
      "              dtype='datetime64[ns]', freq='D')\n",
      "                   A         B         C         D\n",
      "2023-03-21 -1.378532  0.627565 -0.422249 -0.401346\n",
      "2023-03-22 -0.231084 -0.251911  0.341865  0.944841\n",
      "2023-03-23  0.278093  0.669009 -0.109846 -0.870076\n",
      "2023-03-24  0.743197 -1.809101  1.280765 -1.616019\n",
      "2023-03-25  1.054189  0.068271 -0.431593  0.068166\n",
      "2023-03-26  1.168547  1.417183  0.070009  0.515533\n"
     ]
    }
   ],
   "source": [
    "# 創建DataFrame\n",
    "import numpy as np\n",
    "import pandas as pd\n",
    "\n",
    "dates = pd.date_range(\"20230321\", periods=6)\n",
    "print(dates)\n",
    "\n",
    "df = pd.DataFrame(np.random.randn(6, 4), index=dates, columns=[\"A\", \"B\", \"C\", \"D\"])\n",
    "print(df)"
   ]
  },
  {
   "cell_type": "code",
   "execution_count": 24,
   "id": "713a6ffb-20b7-42d1-988f-04d39449064c",
   "metadata": {},
   "outputs": [
    {
     "name": "stdout",
     "output_type": "stream",
     "text": [
      "   0  1   2   3\n",
      "0  0  1   2   3\n",
      "1  4  5   6   7\n",
      "2  8  9  10  11\n",
      "A           float64\n",
      "B    datetime64[ns]\n",
      "C           float32\n",
      "D             int32\n",
      "E          category\n",
      "F            object\n",
      "dtype: object\n",
      "Int64Index([0, 1, 2, 3], dtype='int64')\n",
      "Index(['A', 'B', 'C', 'D', 'E', 'F'], dtype='object')\n",
      "[[1.0 Timestamp('2013-01-02 00:00:00') 1.0 3 'test' 'foo']\n",
      " [1.0 Timestamp('2013-01-02 00:00:00') 1.0 3 'train' 'foo']\n",
      " [1.0 Timestamp('2013-01-02 00:00:00') 1.0 3 'test' 'foo']\n",
      " [1.0 Timestamp('2013-01-02 00:00:00') 1.0 3 'train' 'foo']]\n",
      "         A    C    D\n",
      "count  4.0  4.0  4.0\n",
      "mean   1.0  1.0  3.0\n",
      "std    0.0  0.0  0.0\n",
      "min    1.0  1.0  3.0\n",
      "25%    1.0  1.0  3.0\n",
      "50%    1.0  1.0  3.0\n",
      "75%    1.0  1.0  3.0\n",
      "max    1.0  1.0  3.0\n",
      "                     0                    1                    2  \\\n",
      "A                  1.0                  1.0                  1.0   \n",
      "B  2013-01-02 00:00:00  2013-01-02 00:00:00  2013-01-02 00:00:00   \n",
      "C                  1.0                  1.0                  1.0   \n",
      "D                    3                    3                    3   \n",
      "E                 test                train                 test   \n",
      "F                  foo                  foo                  foo   \n",
      "\n",
      "                     3  \n",
      "A                  1.0  \n",
      "B  2013-01-02 00:00:00  \n",
      "C                  1.0  \n",
      "D                    3  \n",
      "E                train  \n",
      "F                  foo  \n",
      "     F      E  D    C          B    A\n",
      "0  foo   test  3  1.0 2013-01-02  1.0\n",
      "1  foo  train  3  1.0 2013-01-02  1.0\n",
      "2  foo   test  3  1.0 2013-01-02  1.0\n",
      "3  foo  train  3  1.0 2013-01-02  1.0\n",
      "     A          B    C  D      E    F\n",
      "0  1.0 2013-01-02  1.0  3   test  foo\n",
      "2  1.0 2013-01-02  1.0  3   test  foo\n",
      "1  1.0 2013-01-02  1.0  3  train  foo\n",
      "3  1.0 2013-01-02  1.0  3  train  foo\n"
     ]
    }
   ],
   "source": [
    "# DataFrame功能\n",
    "import numpy as np\n",
    "import pandas as pd\n",
    "\n",
    "df0 = pd.DataFrame(np.arange(12).reshape(3, 4))\n",
    "df1 = pd.DataFrame(\n",
    "    {\n",
    "        \"A\": 1.0,\n",
    "        \"B\": pd.Timestamp(\"20130102\"),\n",
    "        \"C\": pd.Series(1, index=list(range(4)), dtype=\"float32\"),\n",
    "        \"D\": np.array([3] * 4, dtype=\"int32\"),\n",
    "        \"E\": pd.Categorical([\"test\", \"train\", \"test\", \"train\"]),\n",
    "        \"F\": \"foo\",\n",
    "    }\n",
    ")\n",
    "print(df0)\n",
    "print(df1.dtypes)\n",
    "print(df1.index)\n",
    "print(df1.columns)\n",
    "print(df1.values)\n",
    "print(df1.describe())\n",
    "print(df1.T)  # 轉置\n",
    "print(df1.sort_index(axis=1, ascending=False))  # 對axis=1倒序\n",
    "print(df1.sort_values(by=\"E\"))  # col:E一樣的排一起"
   ]
  },
  {
   "cell_type": "markdown",
   "id": "f6c9e9c6-427b-4f8e-84ed-d4b3acd84874",
   "metadata": {},
   "source": [
    "# DataFrame選擇"
   ]
  },
  {
   "cell_type": "code",
   "execution_count": 2,
   "id": "94d75cf4-e700-4b90-9325-3fdf8d17300d",
   "metadata": {},
   "outputs": [
    {
     "name": "stdout",
     "output_type": "stream",
     "text": [
      "A    1.635638\n",
      "B    1.706587\n",
      "C    1.772408\n",
      "D    1.286888\n",
      "Name: 2013-01-02 00:00:00, dtype: float64\n",
      "                   A         B\n",
      "2013-01-01 -0.125622  0.363997\n",
      "2013-01-02  1.635638  1.706587\n",
      "2013-01-03  0.124642 -0.754653\n",
      "2013-01-04  1.012108  0.108630\n",
      "2013-01-05  0.718474  0.310616\n",
      "2013-01-06  0.289073  0.401007\n",
      "A    1.635638\n",
      "B    1.706587\n",
      "Name: 2013-01-02 00:00:00, dtype: float64\n",
      "A    1.012108\n",
      "B    0.108630\n",
      "C    1.948809\n",
      "D    1.094012\n",
      "Name: 2013-01-04 00:00:00, dtype: float64\n",
      "0.10863017413572437\n",
      "                   A         B\n",
      "2013-01-04  1.012108  0.108630\n",
      "2013-01-05  0.718474  0.310616\n",
      "                   A         C\n",
      "2013-01-02  1.635638  1.772408\n",
      "2013-01-03  0.124642 -0.105290\n",
      "2013-01-05  0.718474 -0.897945\n",
      "                   A         B         C         D\n",
      "2013-01-02  1.635638  1.706587  1.772408  1.286888\n",
      "2013-01-03  0.124642 -0.754653 -0.105290  0.327883\n",
      "2013-01-04  1.012108  0.108630  1.948809  1.094012\n",
      "2013-01-05  0.718474  0.310616 -0.897945  0.721696\n",
      "2013-01-06  0.289073  0.401007  0.762704  0.323678\n"
     ]
    }
   ],
   "source": [
    "import numpy as np\n",
    "import pandas as pd\n",
    "\n",
    "dates = pd.date_range(\"20130101\", periods=6)\n",
    "df = pd.DataFrame(np.random.randn(6, 4), index=dates, columns=[\"A\", \"B\", \"C\", \"D\"])\n",
    "\n",
    "# loc:用標籤選\n",
    "print(df.loc[\"20130102\"])\n",
    "print(df.loc[:, [\"A\", \"B\"]])\n",
    "print(df.loc[\"20130102\", [\"A\", \"B\"]])\n",
    "\n",
    "# iloc:用位置選\n",
    "print(df.iloc[3])\n",
    "print(df.iloc[3, 1])\n",
    "print(df.iloc[3:5, 0:2])\n",
    "print(df.iloc[[1, 2, 4], [0, 2]])\n",
    "\n",
    "# 用Boolean選\n",
    "print(df[df.A > 0])"
   ]
  },
  {
   "cell_type": "markdown",
   "id": "1d9876be-d5ab-4d04-ba5d-37fd6cd2fb38",
   "metadata": {},
   "source": [
    "# dataframe值更改"
   ]
  },
  {
   "cell_type": "code",
   "execution_count": 9,
   "id": "b567f457-c7ba-420c-a64f-8e008983549c",
   "metadata": {},
   "outputs": [
    {
     "name": "stdout",
     "output_type": "stream",
     "text": [
      "                   A         B            C            D   F  G\n",
      "2023-01-01 -2.092285 -0.704764     0.419119     0.485042 NaN  1\n",
      "2023-01-02  0.000000 -0.402873     1.296465     0.590669 NaN  2\n",
      "2023-01-03 -1.191727  0.654061  1111.000000  2222.000000 NaN  3\n",
      "2023-01-04 -0.921407  0.686227     0.146706     1.027121 NaN  4\n",
      "2023-01-05 -1.303773 -1.494584    -0.879177     0.716583 NaN  5\n",
      "2023-01-06 -1.480565  0.940286     0.085198     0.283437 NaN  6\n"
     ]
    }
   ],
   "source": [
    "import numpy as np\n",
    "import pandas as pd\n",
    "\n",
    "dates = pd.date_range(\"20230101\", periods=6)\n",
    "df = pd.DataFrame(np.random.randn(6, 4), index=dates, columns=[\"A\", \"B\", \"C\", \"D\"])\n",
    "\n",
    "df.iloc[2, 2] = 1111  # 用位置更改\n",
    "df.loc[\"2023-01-03\", \"D\"] = 2222  # 用標籤更改\n",
    "df.A[df.A > 0] = 0  # 用條件更改\n",
    "df[\"F\"] = np.nan  # 新增預設是column\n",
    "df[\"G\"] = pd.Series([1, 2, 3, 4, 5, 6], index=dates)  # 使值對齊index\n",
    "print(df)"
   ]
  },
  {
   "cell_type": "markdown",
   "id": "37398ed5-65fd-465b-8b32-9e048c222128",
   "metadata": {},
   "source": [
    "# 遺失值處理"
   ]
  },
  {
   "cell_type": "code",
   "execution_count": 24,
   "id": "db6f6549-1d4a-4fd3-ba14-c43bfc3e9091",
   "metadata": {},
   "outputs": [
    {
     "name": "stdout",
     "output_type": "stream",
     "text": [
      "    0     1     2   3\n",
      "2   8   9.0  10.0  11\n",
      "3  12  13.0  14.0  15\n",
      "4  16  17.0  18.0  19\n",
      "5  20  21.0  22.0  23\n",
      "    0     1     2   3\n",
      "0   0   0.0   2.0   3\n",
      "1   4   5.0   0.0   7\n",
      "2   8   9.0  10.0  11\n",
      "3  12  13.0  14.0  15\n",
      "4  16  17.0  18.0  19\n",
      "5  20  21.0  22.0  23\n",
      "       0      1      2      3\n",
      "0  False   True  False  False\n",
      "1  False  False   True  False\n",
      "2  False  False  False  False\n",
      "3  False  False  False  False\n",
      "4  False  False  False  False\n",
      "5  False  False  False  False\n",
      "True\n"
     ]
    }
   ],
   "source": [
    "import numpy as np\n",
    "import pandas as pd\n",
    "\n",
    "df = pd.DataFrame(np.arange(24).reshape(6, 4))\n",
    "df.iloc[0, 1] = np.nan\n",
    "df.iloc[1, 2] = np.nan\n",
    "\n",
    "print(df.dropna(axis=0, how=\"any\"))  # 刪除具遺失值之行或列, how={'any', 'all'}\n",
    "print(df.fillna(value=0))  # 將遺失值填入值\n",
    "print(pd.isnull(df))  # 判斷遺失值\n",
    "print(np.any(df.isnull()) == True)  # 判斷資料內是否存在遺失值"
   ]
  },
  {
   "cell_type": "markdown",
   "id": "7437860a-3251-4562-a98e-0e3ee7c1feed",
   "metadata": {},
   "source": [
    "# 導入導出"
   ]
  },
  {
   "cell_type": "code",
   "execution_count": 7,
   "id": "e4b01b57-151a-4deb-81a9-d3cfe4b74774",
   "metadata": {},
   "outputs": [
    {
     "name": "stdout",
     "output_type": "stream",
     "text": [
      "         id diagnosis  radius_mean  texture_mean  perimeter_mean  area_mean  \\\n",
      "0    842302         M        17.99         10.38          122.80     1001.0   \n",
      "1    842517         M        20.57         17.77          132.90     1326.0   \n",
      "2  84300903         M        19.69         21.25          130.00     1203.0   \n",
      "3  84348301         M        11.42         20.38           77.58      386.1   \n",
      "4  84358402         M        20.29         14.34          135.10     1297.0   \n",
      "5    843786         M        12.45         15.70           82.57      477.1   \n",
      "6    844359         M        18.25         19.98          119.60     1040.0   \n",
      "\n",
      "   smoothness_mean  compactness_mean  concavity_mean  concave points_mean  \\\n",
      "0          0.11840           0.27760          0.3001              0.14710   \n",
      "1          0.08474           0.07864          0.0869              0.07017   \n",
      "2          0.10960           0.15990          0.1974              0.12790   \n",
      "3          0.14250           0.28390          0.2414              0.10520   \n",
      "4          0.10030           0.13280          0.1980              0.10430   \n",
      "5          0.12780           0.17000          0.1578              0.08089   \n",
      "6          0.09463           0.10900          0.1127              0.07400   \n",
      "\n",
      "   ...  texture_worst  perimeter_worst  area_worst  smoothness_worst  \\\n",
      "0  ...          17.33           184.60      2019.0            0.1622   \n",
      "1  ...          23.41           158.80      1956.0            0.1238   \n",
      "2  ...          25.53           152.50      1709.0            0.1444   \n",
      "3  ...          26.50            98.87       567.7            0.2098   \n",
      "4  ...          16.67           152.20      1575.0            0.1374   \n",
      "5  ...          23.75           103.40       741.6            0.1791   \n",
      "6  ...          27.66           153.20      1606.0            0.1442   \n",
      "\n",
      "   compactness_worst  concavity_worst  concave points_worst  symmetry_worst  \\\n",
      "0             0.6656           0.7119                0.2654          0.4601   \n",
      "1             0.1866           0.2416                0.1860          0.2750   \n",
      "2             0.4245           0.4504                0.2430          0.3613   \n",
      "3             0.8663           0.6869                0.2575          0.6638   \n",
      "4             0.2050           0.4000                0.1625          0.2364   \n",
      "5             0.5249           0.5355                0.1741          0.3985   \n",
      "6             0.2576           0.3784                0.1932          0.3063   \n",
      "\n",
      "   fractal_dimension_worst  Unnamed: 32  \n",
      "0                  0.11890          NaN  \n",
      "1                  0.08902          NaN  \n",
      "2                  0.08758          NaN  \n",
      "3                  0.17300          NaN  \n",
      "4                  0.07678          NaN  \n",
      "5                  0.12440          NaN  \n",
      "6                  0.08368          NaN  \n",
      "\n",
      "[7 rows x 33 columns]\n"
     ]
    }
   ],
   "source": [
    "import pandas as pd\n",
    "\n",
    "# 讀取csv\n",
    "data = pd.read_csv(\"./files/data.csv\")\n",
    "\n",
    "print(data.head(7))  # print出前n個index\n",
    "\n",
    "# 匯出成pickle格式\n",
    "data.to_pickle(\"./files/data.pickle\")"
   ]
  },
  {
   "cell_type": "markdown",
   "id": "8f08d21e-1ac8-4aa9-85b0-13746ee69b03",
   "metadata": {},
   "source": [
    "# concat合併"
   ]
  },
  {
   "cell_type": "code",
   "execution_count": 18,
   "id": "f1905321-f100-4255-8324-751113f62f1d",
   "metadata": {},
   "outputs": [
    {
     "name": "stdout",
     "output_type": "stream",
     "text": [
      "     a    b    c    d\n",
      "0  0.0  0.0  0.0  0.0\n",
      "1  0.0  0.0  0.0  0.0\n",
      "2  0.0  0.0  0.0  0.0\n",
      "3  1.0  1.0  1.0  1.0\n",
      "4  1.0  1.0  1.0  1.0\n",
      "5  1.0  1.0  1.0  1.0\n",
      "6  2.0  2.0  2.0  2.0\n",
      "7  2.0  2.0  2.0  2.0\n",
      "8  2.0  2.0  2.0  2.0\n"
     ]
    }
   ],
   "source": [
    "import numpy as np\n",
    "import pandas as pd\n",
    "\n",
    "# concatenating\n",
    "# ignore index:忽略合併時舊的index，改採用自動生成的index\n",
    "df1 = pd.DataFrame(np.ones((3, 4)) * 0, columns=[\"a\", \"b\", \"c\", \"d\"])\n",
    "df2 = pd.DataFrame(np.ones((3, 4)) * 1, columns=[\"a\", \"b\", \"c\", \"d\"])\n",
    "df3 = pd.DataFrame(np.ones((3, 4)) * 2, columns=[\"a\", \"b\", \"c\", \"d\"])\n",
    "res = pd.concat([df1, df2, df3], axis=0, ignore_index=True)  # 預設依axis=0合併\n",
    "print(res)"
   ]
  },
  {
   "cell_type": "code",
   "execution_count": 20,
   "id": "991fc84f-b116-498a-99c2-10b22bf7ebb1",
   "metadata": {},
   "outputs": [
    {
     "name": "stdout",
     "output_type": "stream",
     "text": [
      "     a    b    c    d    b    c    d    e\n",
      "1  0.0  0.0  0.0  0.0  NaN  NaN  NaN  NaN\n",
      "2  0.0  0.0  0.0  0.0  1.0  1.0  1.0  1.0\n",
      "3  0.0  0.0  0.0  0.0  1.0  1.0  1.0  1.0\n",
      "4  NaN  NaN  NaN  NaN  1.0  1.0  1.0  1.0\n",
      "     a    b    c    d    b    c    d    e\n",
      "2  0.0  0.0  0.0  0.0  1.0  1.0  1.0  1.0\n",
      "3  0.0  0.0  0.0  0.0  1.0  1.0  1.0  1.0\n"
     ]
    }
   ],
   "source": [
    "# join, ('inner', 'outer')\n",
    "# outer 是聯集(預設)、inner 是交集(如果資料不存在時，NaN)\n",
    "df1 = pd.DataFrame(np.ones((3, 4)) * 0, columns=[\"a\", \"b\", \"c\", \"d\"], index=[1, 2, 3])\n",
    "df2 = pd.DataFrame(np.ones((3, 4)) * 1, columns=[\"b\", \"c\", \"d\", \"e\"], index=[2, 3, 4])\n",
    "res1 = pd.concat([df1, df2], axis=1, join=\"outer\")\n",
    "res2 = pd.concat([df1, df2], axis=1, join=\"inner\")\n",
    "print(res1)\n",
    "print(res2)"
   ]
  },
  {
   "cell_type": "markdown",
   "id": "590655db-dc2d-46f0-b6cb-539fb2a9fe1c",
   "metadata": {},
   "source": [
    "# merge合併"
   ]
  },
  {
   "cell_type": "code",
   "execution_count": 24,
   "id": "c03102a2-3f5f-4a73-bbb5-ecfd16267a8f",
   "metadata": {},
   "outputs": [
    {
     "name": "stdout",
     "output_type": "stream",
     "text": [
      "  key   A   B\n",
      "0  K0  A0  B0\n",
      "1  K1  A1  B1\n",
      "2  K2  A2  B2\n",
      "3  K3  A3  B3\n",
      "  key   C   D\n",
      "0  K0  C0  D0\n",
      "1  K1  C1  D1\n",
      "2  K2  C2  D2\n",
      "3  K3  C3  D3\n",
      "  key   A   B   C   D\n",
      "0  K0  A0  B0  C0  D0\n",
      "1  K1  A1  B1  C1  D1\n",
      "2  K2  A2  B2  C2  D2\n",
      "3  K3  A3  B3  C3  D3\n"
     ]
    }
   ],
   "source": [
    "import pandas as pd\n",
    "\n",
    "# 基於 key 把 left 與 right 合併\n",
    "left = pd.DataFrame(\n",
    "    {\n",
    "        \"key\": [\"K0\", \"K1\", \"K2\", \"K3\"],\n",
    "        \"A\": [\"A0\", \"A1\", \"A2\", \"A3\"],\n",
    "        \"B\": [\"B0\", \"B1\", \"B2\", \"B3\"],\n",
    "    }\n",
    ")\n",
    "right = pd.DataFrame(\n",
    "    {\n",
    "        \"key\": [\"K0\", \"K1\", \"K2\", \"K3\"],\n",
    "        \"C\": [\"C0\", \"C1\", \"C2\", \"C3\"],\n",
    "        \"D\": [\"D0\", \"D1\", \"D2\", \"D3\"],\n",
    "    }\n",
    ")\n",
    "print(left)\n",
    "print(right)\n",
    "res = pd.merge(left, right, on=\"key\")\n",
    "print(res)"
   ]
  },
  {
   "cell_type": "code",
   "execution_count": 26,
   "id": "4eb0a69f-2f92-4fa3-9c70-f3d2bbdd65fd",
   "metadata": {},
   "outputs": [
    {
     "name": "stdout",
     "output_type": "stream",
     "text": [
      "  key1 key2   A   B\n",
      "0   K0   K0  A0  B0\n",
      "1   K0   K1  A1  B1\n",
      "2   K1   K0  A2  B2\n",
      "3   K2   K1  A3  B3\n",
      "  key1 key2   C   D\n",
      "0   K0   K0  C0  D0\n",
      "1   K1   K0  C1  D1\n",
      "2   K1   K0  C2  D2\n",
      "3   K2   K0  C3  D3\n",
      "  key1 key2   A   B   C   D\n",
      "0   K0   K0  A0  B0  C0  D0\n",
      "1   K1   K0  A2  B2  C1  D1\n",
      "2   K1   K0  A2  B2  C2  D2\n",
      "  key1 key2   A   B    C    D\n",
      "0   K0   K0  A0  B0   C0   D0\n",
      "1   K0   K1  A1  B1  NaN  NaN\n",
      "2   K1   K0  A2  B2   C1   D1\n",
      "3   K1   K0  A2  B2   C2   D2\n",
      "4   K2   K1  A3  B3  NaN  NaN\n"
     ]
    }
   ],
   "source": [
    "# merge 多個 key\n",
    "left = pd.DataFrame(\n",
    "    {\n",
    "        \"key1\": [\"K0\", \"K0\", \"K1\", \"K2\"],\n",
    "        \"key2\": [\"K0\", \"K1\", \"K0\", \"K1\"],\n",
    "        \"A\": [\"A0\", \"A1\", \"A2\", \"A3\"],\n",
    "        \"B\": [\"B0\", \"B1\", \"B2\", \"B3\"],\n",
    "    }\n",
    ")\n",
    "right = pd.DataFrame(\n",
    "    {\n",
    "        \"key1\": [\"K0\", \"K1\", \"K1\", \"K2\"],\n",
    "        \"key2\": [\"K0\", \"K0\", \"K0\", \"K0\"],\n",
    "        \"C\": [\"C0\", \"C1\", \"C2\", \"C3\"],\n",
    "        \"D\": [\"D0\", \"D1\", \"D2\", \"D3\"],\n",
    "    }\n",
    ")\n",
    "print(left)\n",
    "print(right)\n",
    "res1 = pd.merge(left, right, on=[\"key1\", \"key2\"], how=\"inner\")\n",
    "# how = ['left', 'right', 'outer', 'inner']\n",
    "res2 = pd.merge(left, right, on=[\"key1\", \"key2\"], how=\"left\")  # 保留left\n",
    "print(res1)\n",
    "print(res2)"
   ]
  },
  {
   "cell_type": "code",
   "execution_count": 29,
   "id": "015428aa-aacd-48f5-ad28-308affd789ab",
   "metadata": {},
   "outputs": [
    {
     "name": "stdout",
     "output_type": "stream",
     "text": [
      "   col1 col_left\n",
      "0     0        a\n",
      "1     1        b\n",
      "   col1  col_right\n",
      "0     1          2\n",
      "1     2          2\n",
      "2     2          2\n",
      "   col1 col_left  col_right      _merge\n",
      "0     0        a        NaN   left_only\n",
      "1     1        b        2.0        both\n",
      "2     2      NaN        2.0  right_only\n",
      "3     2      NaN        2.0  right_only\n",
      "   col1 col_left  col_right indicator_column\n",
      "0     0        a        NaN        left_only\n",
      "1     1        b        2.0             both\n",
      "2     2      NaN        2.0       right_only\n",
      "3     2      NaN        2.0       right_only\n"
     ]
    }
   ],
   "source": [
    "# indicator:顯示資料來源於left或right\n",
    "df1 = pd.DataFrame({\"col1\": [0, 1], \"col_left\": [\"a\", \"b\"]})\n",
    "df2 = pd.DataFrame({\"col1\": [1, 2, 2], \"col_right\": [2, 2, 2]})\n",
    "print(df1)\n",
    "print(df2)\n",
    "res1 = pd.merge(df1, df2, on=\"col1\", how=\"outer\", indicator=True)\n",
    "# 將indicator重新命名\n",
    "res2 = pd.merge(df1, df2, on=\"col1\", how=\"outer\", indicator=\"indicator_column\")\n",
    "print(res1)\n",
    "print(res2)"
   ]
  },
  {
   "cell_type": "code",
   "execution_count": 30,
   "id": "8f218be1-570b-4562-bb1f-1e2ef4b7b35e",
   "metadata": {},
   "outputs": [
    {
     "name": "stdout",
     "output_type": "stream",
     "text": [
      "     A   B\n",
      "K0  A0  B0\n",
      "K1  A1  B1\n",
      "K2  A2  B2\n",
      "     C   D\n",
      "K0  C0  D0\n",
      "K2  C2  D2\n",
      "K3  C3  D3\n",
      "      A    B    C    D\n",
      "K0   A0   B0   C0   D0\n",
      "K1   A1   B1  NaN  NaN\n",
      "K2   A2   B2   C2   D2\n",
      "K3  NaN  NaN   C3   D3\n",
      "     A   B   C   D\n",
      "K0  A0  B0  C0  D0\n",
      "K2  A2  B2  C2  D2\n"
     ]
    }
   ],
   "source": [
    "# 基於 index 把 left 與 right 合併\n",
    "left = pd.DataFrame(\n",
    "    {\"A\": [\"A0\", \"A1\", \"A2\"], \"B\": [\"B0\", \"B1\", \"B2\"]}, index=[\"K0\", \"K1\", \"K2\"]\n",
    ")\n",
    "right = pd.DataFrame(\n",
    "    {\"C\": [\"C0\", \"C2\", \"C3\"], \"D\": [\"D0\", \"D2\", \"D3\"]}, index=[\"K0\", \"K2\", \"K3\"]\n",
    ")\n",
    "print(left)\n",
    "print(right)\n",
    "# left_index and right_index預設是false\n",
    "res1 = pd.merge(left, right, left_index=True, right_index=True, how=\"outer\")\n",
    "res2 = pd.merge(left, right, left_index=True, right_index=True, how=\"inner\")\n",
    "print(res1)\n",
    "print(res2)"
   ]
  },
  {
   "cell_type": "code",
   "execution_count": 34,
   "id": "d811f6e6-fe62-4165-9e96-97a5107303dd",
   "metadata": {},
   "outputs": [
    {
     "name": "stdout",
     "output_type": "stream",
     "text": [
      "    k  age\n",
      "0  K0    1\n",
      "1  K1    2\n",
      "2  K2    3\n",
      "    k  age\n",
      "0  K0    4\n",
      "1  K0    5\n",
      "2  K3    6\n",
      "    k  age_boy  age_girl\n",
      "0  K0        1         4\n",
      "1  K0        1         5\n"
     ]
    }
   ],
   "source": [
    "# 以suffixes處理merge時發生相同欄位的衝突的問題\n",
    "boys = pd.DataFrame({'k': ['K0', 'K1', 'K2'], 'age': [1, 2, 3]})\n",
    "girls = pd.DataFrame({'k': ['K0', 'K0', 'K3'], 'age': [4, 5, 6]})\n",
    "res = pd.merge(boys, girls, on='k', suffixes=['_boy', '_girl'], how='inner')\n",
    "print(boys)\n",
    "print(girls)\n",
    "print(res)"
   ]
  },
  {
   "cell_type": "code",
   "execution_count": null,
   "id": "3fceb9e3-5a2d-45e0-aaa2-c931b902eb0b",
   "metadata": {},
   "outputs": [],
   "source": []
  }
 ],
 "metadata": {
  "kernelspec": {
   "display_name": "Python 3 (ipykernel)",
   "language": "python",
   "name": "python3"
  },
  "language_info": {
   "codemirror_mode": {
    "name": "ipython",
    "version": 3
   },
   "file_extension": ".py",
   "mimetype": "text/x-python",
   "name": "python",
   "nbconvert_exporter": "python",
   "pygments_lexer": "ipython3",
   "version": "3.9.16"
  }
 },
 "nbformat": 4,
 "nbformat_minor": 5
}
