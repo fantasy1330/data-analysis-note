{
 "cells": [
  {
   "cell_type": "code",
   "execution_count": 10,
   "id": "05b3c5ce-36b2-4e97-a66a-2b542627c3c0",
   "metadata": {},
   "outputs": [
    {
     "data": {
      "text/plain": [
       "'1.24.2'"
      ]
     },
     "execution_count": 10,
     "metadata": {},
     "output_type": "execute_result"
    }
   ],
   "source": [
    "# 1. Import numpy as np and see the version\n",
    "import numpy as np\n",
    "import pandas as pd\n",
    "\n",
    "np.__version__"
   ]
  },
  {
   "cell_type": "code",
   "execution_count": 2,
   "id": "95afc044-b7b3-469c-b360-cfdb1cea46b9",
   "metadata": {},
   "outputs": [
    {
     "data": {
      "text/plain": [
       "array([0, 1, 2, 3, 4, 5, 6, 7, 8, 9])"
      ]
     },
     "execution_count": 2,
     "metadata": {},
     "output_type": "execute_result"
    }
   ],
   "source": [
    "# 2. How to create a 1D array?\n",
    "# Q. Create a 1D array of numbers from 0 to 9\n",
    "np.arange(0, 10)"
   ]
  },
  {
   "cell_type": "code",
   "execution_count": 4,
   "id": "1d96eeac-8bfd-493e-b397-68955054b237",
   "metadata": {},
   "outputs": [
    {
     "data": {
      "text/plain": [
       "array([[ True,  True,  True],\n",
       "       [ True,  True,  True],\n",
       "       [ True,  True,  True]])"
      ]
     },
     "execution_count": 4,
     "metadata": {},
     "output_type": "execute_result"
    }
   ],
   "source": [
    "# 3. How to create a boolean array?\n",
    "# Q. Create a 3×3 numpy array of all True’s\n",
    "np.full((3, 3), True)"
   ]
  },
  {
   "cell_type": "code",
   "execution_count": 6,
   "id": "7a65a74d-605a-4458-a80d-ab0e239f673a",
   "metadata": {},
   "outputs": [
    {
     "data": {
      "text/plain": [
       "array([1, 3, 5, 7, 9])"
      ]
     },
     "execution_count": 6,
     "metadata": {},
     "output_type": "execute_result"
    }
   ],
   "source": [
    "# 4. How to extract items that satisfy a given condition from 1D array?\n",
    "# Q. Extract all odd numbers from arr\n",
    "arr = np.array([0, 1, 2, 3, 4, 5, 6, 7, 8, 9])\n",
    "condition = arr % 2 == 1\n",
    "arr[condition]"
   ]
  },
  {
   "cell_type": "code",
   "execution_count": 4,
   "id": "7c325585-b722-492e-b69b-75ee685d3d72",
   "metadata": {},
   "outputs": [
    {
     "data": {
      "text/plain": [
       "array([ 0, -1,  2, -1,  4, -1,  6, -1,  8, -1])"
      ]
     },
     "execution_count": 4,
     "metadata": {},
     "output_type": "execute_result"
    }
   ],
   "source": [
    "# 5. How to replace items that satisfy a condition with another value in numpy array?\n",
    "# Q. Replace all odd numbers in arr with -1\n",
    "arr = np.array([0, 1, 2, 3, 4, 5, 6, 7, 8, 9])\n",
    "condition = arr % 2 == 1\n",
    "arr[condition] = -1  # sol1: boolean\n",
    "\n",
    "np.where(arr % 2 == 1, -1, arr)  # sol2: np where(條件, 滿足, 不滿足)"
   ]
  },
  {
   "cell_type": "code",
   "execution_count": 7,
   "id": "67d45ae8-4cd2-4172-8589-b9a15c330c9d",
   "metadata": {},
   "outputs": [
    {
     "name": "stdout",
     "output_type": "stream",
     "text": [
      "[0 1 2 3 4 5 6 7 8 9]\n",
      "[ 0 -1  2 -1  4 -1  6 -1  8 -1]\n"
     ]
    }
   ],
   "source": [
    "# 6. How to replace items that satisfy a condition without affecting the original array?\n",
    "# Q. Replace all odd numbers in arr with -1 without changing arr\n",
    "arr = np.array([0, 1, 2, 3, 4, 5, 6, 7, 8, 9])\n",
    "res = np.where(arr % 2 == 1, -1, arr)\n",
    "print(arr, res, sep=\"\\n\")"
   ]
  },
  {
   "cell_type": "code",
   "execution_count": 9,
   "id": "a9ccde42-b693-4ead-b016-c3858f99202c",
   "metadata": {},
   "outputs": [
    {
     "name": "stdout",
     "output_type": "stream",
     "text": [
      "[0 1 2 3 4 5 6 7 8 9]\n",
      "[[0 1 2 3 4]\n",
      " [5 6 7 8 9]]\n"
     ]
    }
   ],
   "source": [
    "# 7. How to reshape an array?\n",
    "# Q. Convert a 1D array to a 2D array with 2 rows\n",
    "arr = np.arange(10)\n",
    "res = arr.reshape(2, 5)  # sol1\n",
    "\n",
    "res = arr.reshape(2, -1)  # sol2: col使用-1可以自動運算\n",
    "print(arr, res, sep=\"\\n\")"
   ]
  },
  {
   "cell_type": "code",
   "execution_count": 13,
   "id": "64849bbe-c118-45ff-a6bc-b507a36dd95c",
   "metadata": {},
   "outputs": [
    {
     "name": "stdout",
     "output_type": "stream",
     "text": [
      "[[0 1 2 3 4]\n",
      " [5 6 7 8 9]\n",
      " [1 1 1 1 1]\n",
      " [1 1 1 1 1]]\n"
     ]
    },
    {
     "data": {
      "text/plain": [
       "array([[0, 1, 2, 3, 4],\n",
       "       [5, 6, 7, 8, 9],\n",
       "       [1, 1, 1, 1, 1],\n",
       "       [1, 1, 1, 1, 1]])"
      ]
     },
     "execution_count": 13,
     "metadata": {},
     "output_type": "execute_result"
    }
   ],
   "source": [
    "# 8. How to stack two arrays vertically?\n",
    "# Q. Stack arrays a and b vertically\n",
    "a = np.arange(10).reshape(2, -1)\n",
    "b = np.repeat(1, 10).reshape(2, -1)\n",
    "np.concatenate([a, b], axis=0)  # sol1\n",
    "\n",
    "np.vstack([a, b])  # sol2"
   ]
  },
  {
   "cell_type": "code",
   "execution_count": 15,
   "id": "0a77085c-7642-446d-b73a-aabc6f9cbcfc",
   "metadata": {},
   "outputs": [
    {
     "data": {
      "text/plain": [
       "array([[0, 1, 2, 3, 4, 1, 1, 1, 1, 1],\n",
       "       [5, 6, 7, 8, 9, 1, 1, 1, 1, 1]])"
      ]
     },
     "execution_count": 15,
     "metadata": {},
     "output_type": "execute_result"
    }
   ],
   "source": [
    "# 9. How to stack two arrays horizontally?\n",
    "# Q. Stack the arrays a and b horizontally.\n",
    "a = np.arange(10).reshape(2, -1)\n",
    "b = np.repeat(1, 10).reshape(2, -1)\n",
    "np.concatenate([a, b], axis=1)  # sol1\n",
    "\n",
    "np.hstack([a, b])  # sol2"
   ]
  },
  {
   "cell_type": "code",
   "execution_count": 18,
   "id": "058a3e27-7ef4-4c3b-b4a5-5305336ca95f",
   "metadata": {},
   "outputs": [
    {
     "data": {
      "text/plain": [
       "array([1, 1, 1, 2, 2, 2, 3, 3, 3, 1, 2, 3, 1, 2, 3])"
      ]
     },
     "execution_count": 18,
     "metadata": {},
     "output_type": "execute_result"
    }
   ],
   "source": [
    "# 10. How to generate custom sequences in numpy without hardcoding?\n",
    "# Q. Create the following pattern without hardcoding. Use only numpy functions and the below input array a.\n",
    "a = np.array([1, 2, 3])\n",
    "\n",
    "result = np.hstack([np.repeat(a, 3), np.tile(a, 2)])\n",
    "result"
   ]
  },
  {
   "cell_type": "code",
   "execution_count": 19,
   "id": "3a6e7388-0c6a-4ca2-9d49-96055738e171",
   "metadata": {},
   "outputs": [
    {
     "data": {
      "text/plain": [
       "array([2, 4])"
      ]
     },
     "execution_count": 19,
     "metadata": {},
     "output_type": "execute_result"
    }
   ],
   "source": [
    "# 11. How to get the common items between two python numpy arrays?\n",
    "# Q. Get the common items between a and b\n",
    "a = np.array([1, 2, 3, 2, 3, 4, 3, 4, 5, 6])\n",
    "b = np.array([7, 2, 10, 2, 7, 4, 9, 4, 9, 8])\n",
    "np.intersect1d(a, b)"
   ]
  },
  {
   "cell_type": "code",
   "execution_count": 21,
   "id": "1e223468-c1e6-489d-bffc-2b5d11aad5b2",
   "metadata": {},
   "outputs": [
    {
     "data": {
      "text/plain": [
       "array([1, 2, 3, 4])"
      ]
     },
     "execution_count": 21,
     "metadata": {},
     "output_type": "execute_result"
    }
   ],
   "source": [
    "# 12. How to remove from one array those items that exist in another?\n",
    "# Q. From array a remove all items present in array b\n",
    "a = np.array([1, 2, 3, 4, 5])\n",
    "b = np.array([5, 6, 7, 8, 9])\n",
    "condition = ~np.isin(a,b)  # sol1\n",
    "a[condition]\n",
    "\n",
    "np.setdiff1d(a,b)"
   ]
  },
  {
   "cell_type": "code",
   "execution_count": null,
   "id": "399999ae-0804-4bab-9bce-dd8e010a21fd",
   "metadata": {},
   "outputs": [],
   "source": []
  }
 ],
 "metadata": {
  "kernelspec": {
   "display_name": "Python 3 (ipykernel)",
   "language": "python",
   "name": "python3"
  },
  "language_info": {
   "codemirror_mode": {
    "name": "ipython",
    "version": 3
   },
   "file_extension": ".py",
   "mimetype": "text/x-python",
   "name": "python",
   "nbconvert_exporter": "python",
   "pygments_lexer": "ipython3",
   "version": "3.9.16"
  }
 },
 "nbformat": 4,
 "nbformat_minor": 5
}
