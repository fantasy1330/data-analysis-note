{
 "cells": [
  {
   "cell_type": "code",
   "execution_count": 3,
   "id": "ba2b378b-938b-4ae6-93a4-a590523d162f",
   "metadata": {},
   "outputs": [
    {
     "name": "stdout",
     "output_type": "stream",
     "text": [
      "1.5.3\n"
     ]
    }
   ],
   "source": [
    "# 1. How to import pandas and check the version?\n",
    "import numpy as np\n",
    "import pandas as pd\n",
    "\n",
    "print(pd.__version__)"
   ]
  },
  {
   "cell_type": "code",
   "execution_count": 3,
   "id": "75dd5536-f69e-49a1-87b8-8b593a2e6e7a",
   "metadata": {},
   "outputs": [],
   "source": [
    "# 2. How to create a series from a list, numpy array and dict?\n",
    "import numpy as np\n",
    "\n",
    "mylist = list(\"abcedfghijklmnopqrstuvwxyz\")\n",
    "myarr = np.arange(26)\n",
    "mydict = dict(zip(mylist, myarr))\n",
    "\n",
    "ser1 = pd.Series(mylist)\n",
    "ser2 = pd.Series(myarr)\n",
    "ser3 = pd.Series(mydict)"
   ]
  },
  {
   "cell_type": "code",
   "execution_count": 26,
   "id": "62b6b6d1-216d-4127-a108-b9370bfd8fc6",
   "metadata": {},
   "outputs": [
    {
     "data": {
      "text/html": [
       "<div>\n",
       "<style scoped>\n",
       "    .dataframe tbody tr th:only-of-type {\n",
       "        vertical-align: middle;\n",
       "    }\n",
       "\n",
       "    .dataframe tbody tr th {\n",
       "        vertical-align: top;\n",
       "    }\n",
       "\n",
       "    .dataframe thead th {\n",
       "        text-align: right;\n",
       "    }\n",
       "</style>\n",
       "<table border=\"1\" class=\"dataframe\">\n",
       "  <thead>\n",
       "    <tr style=\"text-align: right;\">\n",
       "      <th></th>\n",
       "      <th>Letter</th>\n",
       "      <th>Number</th>\n",
       "    </tr>\n",
       "  </thead>\n",
       "  <tbody>\n",
       "    <tr>\n",
       "      <th>0</th>\n",
       "      <td>a</td>\n",
       "      <td>0</td>\n",
       "    </tr>\n",
       "    <tr>\n",
       "      <th>1</th>\n",
       "      <td>b</td>\n",
       "      <td>1</td>\n",
       "    </tr>\n",
       "    <tr>\n",
       "      <th>2</th>\n",
       "      <td>c</td>\n",
       "      <td>2</td>\n",
       "    </tr>\n",
       "    <tr>\n",
       "      <th>3</th>\n",
       "      <td>e</td>\n",
       "      <td>3</td>\n",
       "    </tr>\n",
       "    <tr>\n",
       "      <th>4</th>\n",
       "      <td>d</td>\n",
       "      <td>4</td>\n",
       "    </tr>\n",
       "  </tbody>\n",
       "</table>\n",
       "</div>"
      ],
      "text/plain": [
       "  Letter  Number\n",
       "0      a       0\n",
       "1      b       1\n",
       "2      c       2\n",
       "3      e       3\n",
       "4      d       4"
      ]
     },
     "execution_count": 26,
     "metadata": {},
     "output_type": "execute_result"
    }
   ],
   "source": [
    "# 3. How to convert the index of a series into a column of a dataframe? L1\n",
    "mylist = list(\"abcedfghijklmnopqrstuvwxyz\")\n",
    "myarr = np.arange(26)\n",
    "mydict = dict(zip(mylist, myarr))\n",
    "ser = pd.Series(mydict)\n",
    "df = ser.to_frame().reset_index()\n",
    "df.columns = [\"Letter\", \"Number\"]\n",
    "df.head()"
   ]
  },
  {
   "cell_type": "code",
   "execution_count": 13,
   "id": "057f1db9-d050-464e-ae26-612b2b76df68",
   "metadata": {},
   "outputs": [
    {
     "data": {
      "text/html": [
       "<div>\n",
       "<style scoped>\n",
       "    .dataframe tbody tr th:only-of-type {\n",
       "        vertical-align: middle;\n",
       "    }\n",
       "\n",
       "    .dataframe tbody tr th {\n",
       "        vertical-align: top;\n",
       "    }\n",
       "\n",
       "    .dataframe thead th {\n",
       "        text-align: right;\n",
       "    }\n",
       "</style>\n",
       "<table border=\"1\" class=\"dataframe\">\n",
       "  <thead>\n",
       "    <tr style=\"text-align: right;\">\n",
       "      <th></th>\n",
       "      <th>0</th>\n",
       "      <th>1</th>\n",
       "    </tr>\n",
       "  </thead>\n",
       "  <tbody>\n",
       "    <tr>\n",
       "      <th>0</th>\n",
       "      <td>a</td>\n",
       "      <td>0</td>\n",
       "    </tr>\n",
       "    <tr>\n",
       "      <th>1</th>\n",
       "      <td>b</td>\n",
       "      <td>1</td>\n",
       "    </tr>\n",
       "    <tr>\n",
       "      <th>2</th>\n",
       "      <td>c</td>\n",
       "      <td>2</td>\n",
       "    </tr>\n",
       "    <tr>\n",
       "      <th>3</th>\n",
       "      <td>e</td>\n",
       "      <td>3</td>\n",
       "    </tr>\n",
       "    <tr>\n",
       "      <th>4</th>\n",
       "      <td>d</td>\n",
       "      <td>4</td>\n",
       "    </tr>\n",
       "  </tbody>\n",
       "</table>\n",
       "</div>"
      ],
      "text/plain": [
       "   0  1\n",
       "0  a  0\n",
       "1  b  1\n",
       "2  c  2\n",
       "3  e  3\n",
       "4  d  4"
      ]
     },
     "execution_count": 13,
     "metadata": {},
     "output_type": "execute_result"
    }
   ],
   "source": [
    "# 4. How to combine many series to form a dataframe? l1\n",
    "import numpy as np\n",
    "\n",
    "ser1 = pd.Series(list(\"abcedfghijklmnopqrstuvwxyz\"))\n",
    "ser2 = pd.Series(np.arange(26))\n",
    "pd1 = pd.concat([ser1, ser2], axis=1)  # sol1: use concat\n",
    "pd2 = pd.DataFrame({\"col1\": ser1, \"col2\": ser2})  # sol2: use dict\n",
    "pd1.head()"
   ]
  },
  {
   "cell_type": "code",
   "execution_count": 12,
   "id": "c43fc9f1-58ff-465c-9784-8ed627578a35",
   "metadata": {},
   "outputs": [
    {
     "data": {
      "text/plain": [
       "0    a\n",
       "1    b\n",
       "2    c\n",
       "3    e\n",
       "4    d\n",
       "Name: alphabet, dtype: object"
      ]
     },
     "execution_count": 12,
     "metadata": {},
     "output_type": "execute_result"
    }
   ],
   "source": [
    "# 5. How to assign name to the series’ index?\n",
    "\n",
    "ser = pd.Series(list('abcedfghijklmnopqrstuvwxyz'))\n",
    "ser.name = 'alphabet'\n",
    "ser.head()"
   ]
  },
  {
   "cell_type": "code",
   "execution_count": 18,
   "id": "86d80e2e-adfb-4567-b683-68af1f7ecae1",
   "metadata": {},
   "outputs": [
    {
     "data": {
      "text/plain": [
       "0    1\n",
       "1    2\n",
       "2    3\n",
       "dtype: int64"
      ]
     },
     "execution_count": 18,
     "metadata": {},
     "output_type": "execute_result"
    }
   ],
   "source": [
    "# 6. How to get the items of series A not present in series B?\n",
    "\n",
    "ser1 = pd.Series([1, 2, 3, 4, 5])\n",
    "ser2 = pd.Series([4, 5, 6, 7, 8])\n",
    "ser3 = ser1[~ser1.isin(ser2)]\n",
    "ser3"
   ]
  },
  {
   "cell_type": "code",
   "execution_count": 20,
   "id": "1e5dba3b-938d-4408-bb36-a0df4faead6e",
   "metadata": {},
   "outputs": [
    {
     "data": {
      "text/plain": [
       "[0    1\n",
       " 1    2\n",
       " 2    3\n",
       " dtype: int64,\n",
       " 2    6\n",
       " 3    7\n",
       " 4    8\n",
       " dtype: int64]"
      ]
     },
     "execution_count": 20,
     "metadata": {},
     "output_type": "execute_result"
    }
   ],
   "source": [
    "# 7. How to get the items not common to both series A and series B?\n",
    "\n",
    "ser1 = pd.Series([1, 2, 3, 4, 5])\n",
    "ser2 = pd.Series([4, 5, 6, 7, 8])\n",
    "res = []\n",
    "res.append(ser1[~ser1.isin(ser2)])\n",
    "res.append(ser2[~ser2.isin(ser1)])\n",
    "res"
   ]
  },
  {
   "cell_type": "code",
   "execution_count": 4,
   "id": "444a0399-3305-4b4b-88bc-83269bfb0313",
   "metadata": {},
   "outputs": [
    {
     "data": {
      "text/plain": [
       "0      4.001437\n",
       "1      9.842391\n",
       "2     11.964365\n",
       "3     14.263698\n",
       "4      6.228390\n",
       "5     14.276110\n",
       "6     14.231992\n",
       "7     10.232860\n",
       "8      6.407690\n",
       "9      3.300308\n",
       "10    11.204675\n",
       "11     9.444226\n",
       "12     5.709517\n",
       "13     5.910409\n",
       "14     0.546996\n",
       "15    11.943007\n",
       "16    18.519931\n",
       "17    16.700199\n",
       "18    10.832171\n",
       "19     9.728706\n",
       "20    14.526464\n",
       "21     6.220301\n",
       "22    20.033136\n",
       "23    20.860771\n",
       "24    12.621608\n",
       "dtype: float64"
      ]
     },
     "execution_count": 4,
     "metadata": {},
     "output_type": "execute_result"
    }
   ],
   "source": [
    "ser = pd.Series(np.random.normal(10, 5, 25))\n",
    "ser.describe"
   ]
  },
  {
   "cell_type": "code",
   "execution_count": null,
   "id": "7487ee40-4c85-4a7c-b007-bbfb8244c062",
   "metadata": {},
   "outputs": [],
   "source": []
  }
 ],
 "metadata": {
  "kernelspec": {
   "display_name": "Python 3 (ipykernel)",
   "language": "python",
   "name": "python3"
  },
  "language_info": {
   "codemirror_mode": {
    "name": "ipython",
    "version": 3
   },
   "file_extension": ".py",
   "mimetype": "text/x-python",
   "name": "python",
   "nbconvert_exporter": "python",
   "pygments_lexer": "ipython3",
   "version": "3.9.16"
  }
 },
 "nbformat": 4,
 "nbformat_minor": 5
}
