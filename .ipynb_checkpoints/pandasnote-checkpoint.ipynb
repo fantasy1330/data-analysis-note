{
 "cells": [
  {
   "cell_type": "markdown",
   "id": "71cc0940-4437-4df8-a7e0-946fb5be0419",
   "metadata": {},
   "source": [
    "# Series & DataFrame"
   ]
  },
  {
   "cell_type": "code",
   "execution_count": 2,
   "id": "77fb7cac-ee3a-49d2-8e1c-fbc3550ebd5f",
   "metadata": {},
   "outputs": [
    {
     "name": "stdout",
     "output_type": "stream",
     "text": [
      "0     1.0\n",
      "1     3.0\n",
      "2     6.0\n",
      "3    33.0\n",
      "4     NaN\n",
      "5     7.0\n",
      "dtype: float64\n"
     ]
    }
   ],
   "source": [
    "# 創建Series\n",
    "import numpy as np\n",
    "import pandas as pd\n",
    "\n",
    "s = pd.Series([1, 3, 6, 33, np.nan, 7])\n",
    "print(s)"
   ]
  },
  {
   "cell_type": "code",
   "execution_count": 8,
   "id": "f0309d6a-2a4b-4327-b907-544ec903a04c",
   "metadata": {},
   "outputs": [
    {
     "name": "stdout",
     "output_type": "stream",
     "text": [
      "DatetimeIndex(['2023-03-21', '2023-03-22', '2023-03-23', '2023-03-24',\n",
      "               '2023-03-25', '2023-03-26'],\n",
      "              dtype='datetime64[ns]', freq='D')\n",
      "                   A         B         C         D\n",
      "2023-03-21 -1.378532  0.627565 -0.422249 -0.401346\n",
      "2023-03-22 -0.231084 -0.251911  0.341865  0.944841\n",
      "2023-03-23  0.278093  0.669009 -0.109846 -0.870076\n",
      "2023-03-24  0.743197 -1.809101  1.280765 -1.616019\n",
      "2023-03-25  1.054189  0.068271 -0.431593  0.068166\n",
      "2023-03-26  1.168547  1.417183  0.070009  0.515533\n"
     ]
    }
   ],
   "source": [
    "# 創建DataFrame\n",
    "import numpy as np\n",
    "import pandas as pd\n",
    "\n",
    "dates = pd.date_range(\"20230321\", periods=6)\n",
    "print(date)\n",
    "\n",
    "df = pd.DataFrame(np.random.randn(6, 4), index=dates, columns=[\"A\", \"B\", \"C\", \"D\"])\n",
    "print(df)"
   ]
  },
  {
   "cell_type": "code",
   "execution_count": 24,
   "id": "713a6ffb-20b7-42d1-988f-04d39449064c",
   "metadata": {},
   "outputs": [
    {
     "name": "stdout",
     "output_type": "stream",
     "text": [
      "   0  1   2   3\n",
      "0  0  1   2   3\n",
      "1  4  5   6   7\n",
      "2  8  9  10  11\n",
      "A           float64\n",
      "B    datetime64[ns]\n",
      "C           float32\n",
      "D             int32\n",
      "E          category\n",
      "F            object\n",
      "dtype: object\n",
      "Int64Index([0, 1, 2, 3], dtype='int64')\n",
      "Index(['A', 'B', 'C', 'D', 'E', 'F'], dtype='object')\n",
      "[[1.0 Timestamp('2013-01-02 00:00:00') 1.0 3 'test' 'foo']\n",
      " [1.0 Timestamp('2013-01-02 00:00:00') 1.0 3 'train' 'foo']\n",
      " [1.0 Timestamp('2013-01-02 00:00:00') 1.0 3 'test' 'foo']\n",
      " [1.0 Timestamp('2013-01-02 00:00:00') 1.0 3 'train' 'foo']]\n",
      "         A    C    D\n",
      "count  4.0  4.0  4.0\n",
      "mean   1.0  1.0  3.0\n",
      "std    0.0  0.0  0.0\n",
      "min    1.0  1.0  3.0\n",
      "25%    1.0  1.0  3.0\n",
      "50%    1.0  1.0  3.0\n",
      "75%    1.0  1.0  3.0\n",
      "max    1.0  1.0  3.0\n",
      "                     0                    1                    2  \\\n",
      "A                  1.0                  1.0                  1.0   \n",
      "B  2013-01-02 00:00:00  2013-01-02 00:00:00  2013-01-02 00:00:00   \n",
      "C                  1.0                  1.0                  1.0   \n",
      "D                    3                    3                    3   \n",
      "E                 test                train                 test   \n",
      "F                  foo                  foo                  foo   \n",
      "\n",
      "                     3  \n",
      "A                  1.0  \n",
      "B  2013-01-02 00:00:00  \n",
      "C                  1.0  \n",
      "D                    3  \n",
      "E                train  \n",
      "F                  foo  \n",
      "     F      E  D    C          B    A\n",
      "0  foo   test  3  1.0 2013-01-02  1.0\n",
      "1  foo  train  3  1.0 2013-01-02  1.0\n",
      "2  foo   test  3  1.0 2013-01-02  1.0\n",
      "3  foo  train  3  1.0 2013-01-02  1.0\n",
      "     A          B    C  D      E    F\n",
      "0  1.0 2013-01-02  1.0  3   test  foo\n",
      "2  1.0 2013-01-02  1.0  3   test  foo\n",
      "1  1.0 2013-01-02  1.0  3  train  foo\n",
      "3  1.0 2013-01-02  1.0  3  train  foo\n"
     ]
    }
   ],
   "source": [
    "# DataFrame功能\n",
    "import numpy as np\n",
    "import pandas as pd\n",
    "\n",
    "df0 = pd.DataFrame(np.arange(12).reshape(3, 4))\n",
    "df1 = pd.DataFrame(\n",
    "    {\n",
    "        \"A\": 1.0,\n",
    "        \"B\": pd.Timestamp(\"20130102\"),\n",
    "        \"C\": pd.Series(1, index=list(range(4)), dtype=\"float32\"),\n",
    "        \"D\": np.array([3] * 4, dtype=\"int32\"),\n",
    "        \"E\": pd.Categorical([\"test\", \"train\", \"test\", \"train\"]),\n",
    "        \"F\": \"foo\",\n",
    "    }\n",
    ")\n",
    "print(df0)\n",
    "print(df1.dtypes)\n",
    "print(df1.index)\n",
    "print(df1.columns)\n",
    "print(df1.values)\n",
    "print(df1.describe())\n",
    "print(df1.T)  # 轉置\n",
    "print(df1.sort_index(axis=1, ascending=False))  # 對axis=1倒序\n",
    "print(df1.sort_values(by=\"E\"))  # col:E一樣的排一起"
   ]
  },
  {
   "cell_type": "markdown",
   "id": "f6c9e9c6-427b-4f8e-84ed-d4b3acd84874",
   "metadata": {},
   "source": [
    "# DataFrame選擇"
   ]
  },
  {
   "cell_type": "code",
   "execution_count": 2,
   "id": "94d75cf4-e700-4b90-9325-3fdf8d17300d",
   "metadata": {},
   "outputs": [
    {
     "name": "stdout",
     "output_type": "stream",
     "text": [
      "A    1.635638\n",
      "B    1.706587\n",
      "C    1.772408\n",
      "D    1.286888\n",
      "Name: 2013-01-02 00:00:00, dtype: float64\n",
      "                   A         B\n",
      "2013-01-01 -0.125622  0.363997\n",
      "2013-01-02  1.635638  1.706587\n",
      "2013-01-03  0.124642 -0.754653\n",
      "2013-01-04  1.012108  0.108630\n",
      "2013-01-05  0.718474  0.310616\n",
      "2013-01-06  0.289073  0.401007\n",
      "A    1.635638\n",
      "B    1.706587\n",
      "Name: 2013-01-02 00:00:00, dtype: float64\n",
      "A    1.012108\n",
      "B    0.108630\n",
      "C    1.948809\n",
      "D    1.094012\n",
      "Name: 2013-01-04 00:00:00, dtype: float64\n",
      "0.10863017413572437\n",
      "                   A         B\n",
      "2013-01-04  1.012108  0.108630\n",
      "2013-01-05  0.718474  0.310616\n",
      "                   A         C\n",
      "2013-01-02  1.635638  1.772408\n",
      "2013-01-03  0.124642 -0.105290\n",
      "2013-01-05  0.718474 -0.897945\n",
      "                   A         B         C         D\n",
      "2013-01-02  1.635638  1.706587  1.772408  1.286888\n",
      "2013-01-03  0.124642 -0.754653 -0.105290  0.327883\n",
      "2013-01-04  1.012108  0.108630  1.948809  1.094012\n",
      "2013-01-05  0.718474  0.310616 -0.897945  0.721696\n",
      "2013-01-06  0.289073  0.401007  0.762704  0.323678\n"
     ]
    }
   ],
   "source": [
    "import numpy as np\n",
    "import pandas as pd\n",
    "\n",
    "dates = pd.date_range(\"20130101\", periods=6)\n",
    "df = pd.DataFrame(np.random.randn(6, 4), index=dates, columns=[\"A\", \"B\", \"C\", \"D\"])\n",
    "\n",
    "# select by label: loc\n",
    "print(df.loc['20130102'])\n",
    "print(df.loc[:,['A','B']])\n",
    "print(df.loc['20130102', ['A','B']])\n",
    "\n",
    "# select by position: iloc\n",
    "print(df.iloc[3])\n",
    "print(df.iloc[3, 1])\n",
    "print(df.iloc[3:5,0:2])\n",
    "print(df.iloc[[1,2,4],[0,2]])\n",
    "\n",
    "# Boolean indexing\n",
    "print(df[df.A > 0])"
   ]
  },
  {
   "cell_type": "code",
   "execution_count": null,
   "id": "b567f457-c7ba-420c-a64f-8e008983549c",
   "metadata": {},
   "outputs": [],
   "source": []
  }
 ],
 "metadata": {
  "kernelspec": {
   "display_name": "Python 3 (ipykernel)",
   "language": "python",
   "name": "python3"
  },
  "language_info": {
   "codemirror_mode": {
    "name": "ipython",
    "version": 3
   },
   "file_extension": ".py",
   "mimetype": "text/x-python",
   "name": "python",
   "nbconvert_exporter": "python",
   "pygments_lexer": "ipython3",
   "version": "3.9.16"
  }
 },
 "nbformat": 4,
 "nbformat_minor": 5
}
