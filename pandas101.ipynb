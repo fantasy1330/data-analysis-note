{
 "cells": [
  {
   "cell_type": "code",
   "execution_count": 2,
   "id": "ba2b378b-938b-4ae6-93a4-a590523d162f",
   "metadata": {},
   "outputs": [
    {
     "name": "stdout",
     "output_type": "stream",
     "text": [
      "1.5.3\n"
     ]
    }
   ],
   "source": [
    "# 1. How to import pandas and check the version?\n",
    "import numpy as np\n",
    "import pandas as pd\n",
    "\n",
    "print(pd.__version__)"
   ]
  },
  {
   "cell_type": "code",
   "execution_count": 3,
   "id": "75dd5536-f69e-49a1-87b8-8b593a2e6e7a",
   "metadata": {},
   "outputs": [],
   "source": [
    "# 2. How to create a series from a list, numpy array and dict?\n",
    "import numpy as np\n",
    "\n",
    "mylist = list(\"abcedfghijklmnopqrstuvwxyz\")\n",
    "myarr = np.arange(26)\n",
    "mydict = dict(zip(mylist, myarr))\n",
    "\n",
    "ser1 = pd.Series(mylist)\n",
    "ser2 = pd.Series(myarr)\n",
    "ser3 = pd.Series(mydict)"
   ]
  },
  {
   "cell_type": "code",
   "execution_count": 26,
   "id": "62b6b6d1-216d-4127-a108-b9370bfd8fc6",
   "metadata": {},
   "outputs": [
    {
     "data": {
      "text/html": [
       "<div>\n",
       "<style scoped>\n",
       "    .dataframe tbody tr th:only-of-type {\n",
       "        vertical-align: middle;\n",
       "    }\n",
       "\n",
       "    .dataframe tbody tr th {\n",
       "        vertical-align: top;\n",
       "    }\n",
       "\n",
       "    .dataframe thead th {\n",
       "        text-align: right;\n",
       "    }\n",
       "</style>\n",
       "<table border=\"1\" class=\"dataframe\">\n",
       "  <thead>\n",
       "    <tr style=\"text-align: right;\">\n",
       "      <th></th>\n",
       "      <th>Letter</th>\n",
       "      <th>Number</th>\n",
       "    </tr>\n",
       "  </thead>\n",
       "  <tbody>\n",
       "    <tr>\n",
       "      <th>0</th>\n",
       "      <td>a</td>\n",
       "      <td>0</td>\n",
       "    </tr>\n",
       "    <tr>\n",
       "      <th>1</th>\n",
       "      <td>b</td>\n",
       "      <td>1</td>\n",
       "    </tr>\n",
       "    <tr>\n",
       "      <th>2</th>\n",
       "      <td>c</td>\n",
       "      <td>2</td>\n",
       "    </tr>\n",
       "    <tr>\n",
       "      <th>3</th>\n",
       "      <td>e</td>\n",
       "      <td>3</td>\n",
       "    </tr>\n",
       "    <tr>\n",
       "      <th>4</th>\n",
       "      <td>d</td>\n",
       "      <td>4</td>\n",
       "    </tr>\n",
       "  </tbody>\n",
       "</table>\n",
       "</div>"
      ],
      "text/plain": [
       "  Letter  Number\n",
       "0      a       0\n",
       "1      b       1\n",
       "2      c       2\n",
       "3      e       3\n",
       "4      d       4"
      ]
     },
     "execution_count": 26,
     "metadata": {},
     "output_type": "execute_result"
    }
   ],
   "source": [
    "# 3. How to convert the index of a series into a column of a dataframe? L1\n",
    "mylist = list(\"abcedfghijklmnopqrstuvwxyz\")\n",
    "myarr = np.arange(26)\n",
    "mydict = dict(zip(mylist, myarr))\n",
    "ser = pd.Series(mydict)\n",
    "df = ser.to_frame().reset_index()\n",
    "df.columns = [\"Letter\", \"Number\"]\n",
    "df.head()"
   ]
  },
  {
   "cell_type": "code",
   "execution_count": 13,
   "id": "057f1db9-d050-464e-ae26-612b2b76df68",
   "metadata": {},
   "outputs": [
    {
     "data": {
      "text/html": [
       "<div>\n",
       "<style scoped>\n",
       "    .dataframe tbody tr th:only-of-type {\n",
       "        vertical-align: middle;\n",
       "    }\n",
       "\n",
       "    .dataframe tbody tr th {\n",
       "        vertical-align: top;\n",
       "    }\n",
       "\n",
       "    .dataframe thead th {\n",
       "        text-align: right;\n",
       "    }\n",
       "</style>\n",
       "<table border=\"1\" class=\"dataframe\">\n",
       "  <thead>\n",
       "    <tr style=\"text-align: right;\">\n",
       "      <th></th>\n",
       "      <th>0</th>\n",
       "      <th>1</th>\n",
       "    </tr>\n",
       "  </thead>\n",
       "  <tbody>\n",
       "    <tr>\n",
       "      <th>0</th>\n",
       "      <td>a</td>\n",
       "      <td>0</td>\n",
       "    </tr>\n",
       "    <tr>\n",
       "      <th>1</th>\n",
       "      <td>b</td>\n",
       "      <td>1</td>\n",
       "    </tr>\n",
       "    <tr>\n",
       "      <th>2</th>\n",
       "      <td>c</td>\n",
       "      <td>2</td>\n",
       "    </tr>\n",
       "    <tr>\n",
       "      <th>3</th>\n",
       "      <td>e</td>\n",
       "      <td>3</td>\n",
       "    </tr>\n",
       "    <tr>\n",
       "      <th>4</th>\n",
       "      <td>d</td>\n",
       "      <td>4</td>\n",
       "    </tr>\n",
       "  </tbody>\n",
       "</table>\n",
       "</div>"
      ],
      "text/plain": [
       "   0  1\n",
       "0  a  0\n",
       "1  b  1\n",
       "2  c  2\n",
       "3  e  3\n",
       "4  d  4"
      ]
     },
     "execution_count": 13,
     "metadata": {},
     "output_type": "execute_result"
    }
   ],
   "source": [
    "# 4. How to combine many series to form a dataframe? l1\n",
    "import numpy as np\n",
    "\n",
    "ser1 = pd.Series(list(\"abcedfghijklmnopqrstuvwxyz\"))\n",
    "ser2 = pd.Series(np.arange(26))\n",
    "pd1 = pd.concat([ser1, ser2], axis=1)  # sol1: use concat\n",
    "pd2 = pd.DataFrame({\"col1\": ser1, \"col2\": ser2})  # sol2: use dict\n",
    "pd1.head()"
   ]
  },
  {
   "cell_type": "code",
   "execution_count": 12,
   "id": "c43fc9f1-58ff-465c-9784-8ed627578a35",
   "metadata": {},
   "outputs": [
    {
     "data": {
      "text/plain": [
       "0    a\n",
       "1    b\n",
       "2    c\n",
       "3    e\n",
       "4    d\n",
       "Name: alphabet, dtype: object"
      ]
     },
     "execution_count": 12,
     "metadata": {},
     "output_type": "execute_result"
    }
   ],
   "source": [
    "# 5. How to assign name to the series’ index? L1\n",
    "\n",
    "ser = pd.Series(list(\"abcedfghijklmnopqrstuvwxyz\"))\n",
    "ser.name = \"alphabet\"\n",
    "ser.head()"
   ]
  },
  {
   "cell_type": "code",
   "execution_count": 18,
   "id": "86d80e2e-adfb-4567-b683-68af1f7ecae1",
   "metadata": {},
   "outputs": [
    {
     "data": {
      "text/plain": [
       "0    1\n",
       "1    2\n",
       "2    3\n",
       "dtype: int64"
      ]
     },
     "execution_count": 18,
     "metadata": {},
     "output_type": "execute_result"
    }
   ],
   "source": [
    "# 6. How to get the items of series A not present in series B? L2\n",
    "\n",
    "ser1 = pd.Series([1, 2, 3, 4, 5])\n",
    "ser2 = pd.Series([4, 5, 6, 7, 8])\n",
    "ser3 = ser1[~ser1.isin(ser2)]\n",
    "ser3"
   ]
  },
  {
   "cell_type": "code",
   "execution_count": 22,
   "id": "1e5dba3b-938d-4408-bb36-a0df4faead6e",
   "metadata": {},
   "outputs": [
    {
     "data": {
      "text/plain": [
       "0    1\n",
       "1    2\n",
       "2    3\n",
       "3    6\n",
       "4    7\n",
       "5    8\n",
       "dtype: int64"
      ]
     },
     "execution_count": 22,
     "metadata": {},
     "output_type": "execute_result"
    }
   ],
   "source": [
    "# 7. How to get the items not common to both series A and series B? L2\n",
    "\n",
    "ser1 = pd.Series([1, 2, 3, 4, 5])\n",
    "ser2 = pd.Series([4, 5, 6, 7, 8])\n",
    "res1 = ser1[~ser1.isin(ser2)]\n",
    "res2 = ser2[~ser2.isin(ser1)]\n",
    "res3 = pd.concat([res1, res2], axis=0)  # sol1: isin concat\n",
    "\n",
    "ser_u = pd.Series(np.union1d(ser1, ser2))\n",
    "ser_i = pd.Series(np.intersect1d(ser1, ser2))\n",
    "ser_x = ser_u[~ser_u.isin(ser_i)]  # sol2: use union & intersect\n",
    "\n",
    "xor = pd.Series(np.setxor1d(ser1, ser2)) # sol3: use xor\n"
   ]
  },
  {
   "cell_type": "code",
   "execution_count": 20,
   "id": "444a0399-3305-4b4b-88bc-83269bfb0313",
   "metadata": {},
   "outputs": [
    {
     "data": {
      "text/plain": [
       "0.00    -2.650657\n",
       "0.25     8.683395\n",
       "0.50    11.017234\n",
       "0.76    14.395488\n",
       "1.00    20.331371\n",
       "dtype: float64"
      ]
     },
     "execution_count": 20,
     "metadata": {},
     "output_type": "execute_result"
    }
   ],
   "source": [
    "# 8. How to get the minimum, 25th percentile, median, 75th, and max of a numeric series? L2\n",
    "\n",
    "ser = pd.Series(np.random.normal(10, 5, 25))\n",
    "np.percentile(ser, q=[0, 25, 50, 75, 100])  # sol1: use np percentile\n",
    "\n",
    "ser.quantile(q=[0, 0.25, 0.50, 0.75, 1.00])  # sol2: use pd quantile"
   ]
  },
  {
   "cell_type": "code",
   "execution_count": 24,
   "id": "7487ee40-4c85-4a7c-b007-bbfb8244c062",
   "metadata": {},
   "outputs": [
    {
     "data": {
      "text/plain": [
       "0     g\n",
       "1     h\n",
       "2     c\n",
       "3     d\n",
       "4     f\n",
       "5     g\n",
       "6     e\n",
       "7     c\n",
       "8     h\n",
       "9     d\n",
       "10    e\n",
       "11    a\n",
       "12    e\n",
       "13    d\n",
       "14    e\n",
       "15    h\n",
       "16    a\n",
       "17    b\n",
       "18    h\n",
       "19    d\n",
       "20    h\n",
       "21    f\n",
       "22    a\n",
       "23    b\n",
       "24    b\n",
       "25    d\n",
       "26    a\n",
       "27    e\n",
       "28    h\n",
       "29    h\n",
       "dtype: object"
      ]
     },
     "execution_count": 24,
     "metadata": {},
     "output_type": "execute_result"
    }
   ],
   "source": [
    "# 9. How to get frequency counts of unique items of a series? L1\n",
    "\n",
    "ser = pd.Series(np.take(list('abcdefgh'), np.random.randint(8, size=30)))\n",
    "ser"
   ]
  },
  {
   "cell_type": "code",
   "execution_count": 25,
   "id": "f2a7f8cc-fac2-49bf-af76-e410a763f278",
   "metadata": {},
   "outputs": [
    {
     "data": {
      "text/plain": [
       "array([6, 3, 1, 2, 7, 7, 4, 5, 2, 3, 4, 7, 2, 2, 2, 7, 1, 2, 5, 2, 4, 6,\n",
       "       5, 0, 0, 1, 2, 5, 2, 6])"
      ]
     },
     "execution_count": 25,
     "metadata": {},
     "output_type": "execute_result"
    }
   ],
   "source": [
    "np.random.randint(8, size=30)"
   ]
  },
  {
   "cell_type": "code",
   "execution_count": 28,
   "id": "ec434348-2249-43b6-9e36-962c1ff10470",
   "metadata": {},
   "outputs": [
    {
     "ename": "TypeError",
     "evalue": "take() missing 1 required positional argument: 'indices'",
     "output_type": "error",
     "traceback": [
      "\u001b[1;31m---------------------------------------------------------------------------\u001b[0m",
      "\u001b[1;31mTypeError\u001b[0m                                 Traceback (most recent call last)",
      "Cell \u001b[1;32mIn[28], line 1\u001b[0m\n\u001b[1;32m----> 1\u001b[0m \u001b[43mnp\u001b[49m\u001b[38;5;241;43m.\u001b[39;49m\u001b[43mtake\u001b[49m\u001b[43m(\u001b[49m\u001b[38;5;28;43mlist\u001b[39;49m\u001b[43m(\u001b[49m\u001b[38;5;124;43m'\u001b[39;49m\u001b[38;5;124;43mabcdefgh\u001b[39;49m\u001b[38;5;124;43m'\u001b[39;49m\u001b[43m)\u001b[49m\u001b[43m)\u001b[49m\n",
      "File \u001b[1;32m<__array_function__ internals>:198\u001b[0m, in \u001b[0;36mtake\u001b[1;34m(*args, **kwargs)\u001b[0m\n",
      "\u001b[1;31mTypeError\u001b[0m: take() missing 1 required positional argument: 'indices'"
     ]
    }
   ],
   "source": [
    "np.take(list('abcdefgh'))"
   ]
  },
  {
   "cell_type": "code",
   "execution_count": null,
   "id": "748ff358-ee33-4c0f-ac49-ecfe57d752e0",
   "metadata": {},
   "outputs": [],
   "source": []
  }
 ],
 "metadata": {
  "kernelspec": {
   "display_name": "Python 3 (ipykernel)",
   "language": "python",
   "name": "python3"
  },
  "language_info": {
   "codemirror_mode": {
    "name": "ipython",
    "version": 3
   },
   "file_extension": ".py",
   "mimetype": "text/x-python",
   "name": "python",
   "nbconvert_exporter": "python",
   "pygments_lexer": "ipython3",
   "version": "3.9.16"
  }
 },
 "nbformat": 4,
 "nbformat_minor": 5
}
