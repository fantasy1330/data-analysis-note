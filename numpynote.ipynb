{
 "cells": [
  {
   "cell_type": "markdown",
   "id": "796827b6-5d46-4fa2-9156-833db2fe834b",
   "metadata": {},
   "source": [
    " # array屬性"
   ]
  },
  {
   "cell_type": "code",
   "execution_count": 2,
   "id": "d70edc19-d0be-447b-85a5-cc7bca4a92ac",
   "metadata": {},
   "outputs": [
    {
     "name": "stdout",
     "output_type": "stream",
     "text": [
      "[[1 2 3]\n",
      " [4 5 6]]\n",
      "維度: 2\n",
      "每個維度的元素數: (2, 3)\n",
      "總元素個數: 6\n"
     ]
    }
   ],
   "source": [
    "import numpy as np\n",
    "\n",
    "arr1 = np.array([[1,2,3],\n",
    "                [4,5,6]])\n",
    "\n",
    "print(arr1)\n",
    "print(f'維度: {arr1.ndim}')\n",
    "print(f'每個維度的元素數: {arr1.shape}')\n",
    "print(f'總元素個數: {arr1.size}')"
   ]
  },
  {
   "cell_type": "markdown",
   "id": "5ecc5908-285a-409e-a74c-547088bae9d9",
   "metadata": {},
   "source": [
    "# 生成array"
   ]
  },
  {
   "cell_type": "code",
   "execution_count": 7,
   "id": "0902d38b-49ca-4e85-9d1c-d50ad9c93c2a",
   "metadata": {},
   "outputs": [
    {
     "name": "stdout",
     "output_type": "stream",
     "text": [
      "[[1 2 3]\n",
      " [4 5 6]]\n",
      "int16\n"
     ]
    }
   ],
   "source": [
    "#dtype\n",
    "import numpy as np\n",
    "\n",
    "a = np.array([[1,2,3],\n",
    "              [4,5,6]], dtype=np.int16)\n",
    "\n",
    "print(a)\n",
    "print(a.dtype)"
   ]
  },
  {
   "cell_type": "code",
   "execution_count": 13,
   "id": "976ce783-cc1f-439a-8d0d-efd1bc7b3925",
   "metadata": {},
   "outputs": [
    {
     "name": "stdout",
     "output_type": "stream",
     "text": [
      "[[0. 0. 0.]\n",
      " [0. 0. 0.]]\n",
      "[[1. 1.]\n",
      " [1. 1.]\n",
      " [1. 1.]]\n"
     ]
    }
   ],
   "source": [
    "#zeros & ones\n",
    "import numpy as np\n",
    "\n",
    "a = np.zeros((2,3))\n",
    "b = np.ones((3,2))\n",
    "\n",
    "print(a)\n",
    "print(b)"
   ]
  },
  {
   "cell_type": "code",
   "execution_count": 22,
   "id": "5f9f726a-7adf-4ba8-b52a-7d3997bd6932",
   "metadata": {},
   "outputs": [
    {
     "name": "stdout",
     "output_type": "stream",
     "text": [
      "[[ 1  3  5]\n",
      " [ 7  9 11]\n",
      " [13 15 17]]\n",
      "[[  0.   12.5  25. ]\n",
      " [ 37.5  50.   62.5]\n",
      " [ 75.   87.5 100. ]]\n"
     ]
    }
   ],
   "source": [
    "#arange & linspace\n",
    "import numpy as np\n",
    "\n",
    "a = np.arange(1,19,2).reshape(3, 3)\n",
    "\n",
    "#等差級數\n",
    "b = np.linspace(0,100,9).reshape(3,3)\n",
    "\n",
    "print(a)\n",
    "print(b)"
   ]
  },
  {
   "cell_type": "markdown",
   "id": "1362f412-4e68-4e8d-b0a9-35771ca8ecce",
   "metadata": {},
   "source": [
    "# 基礎運算"
   ]
  },
  {
   "cell_type": "code",
   "execution_count": 3,
   "id": "2f2e2fef-8d2c-4fb5-acd1-15120dc68bf4",
   "metadata": {},
   "outputs": [
    {
     "name": "stdout",
     "output_type": "stream",
     "text": [
      "[10 21 32 43]\n",
      "[0 1 4 9]\n",
      "[-5.44021111  9.12945251 -9.88031624  7.4511316 ]\n",
      "[ True  True False False]\n",
      "[False False  True False]\n"
     ]
    }
   ],
   "source": [
    "import numpy as np\n",
    "\n",
    "a = np.array([10,20,30,40])\n",
    "b = np.arange(4)\n",
    "\n",
    "print(a+b)\n",
    "print(b**2)\n",
    "print(10*np.sin(a))\n",
    "\n",
    "print(a<25)\n",
    "print(b==2)"
   ]
  },
  {
   "cell_type": "code",
   "execution_count": 7,
   "id": "033a878a-0a15-4820-8a3e-2757eb0bbd3e",
   "metadata": {},
   "outputs": [
    {
     "name": "stdout",
     "output_type": "stream",
     "text": [
      "[[0 1]\n",
      " [0 3]]\n",
      "[[2 4]\n",
      " [2 3]]\n"
     ]
    }
   ],
   "source": [
    "#元素相乘與矩陣乘法\n",
    "import numpy as np\n",
    "a = np.array([[1,1],\n",
    "              [0,1]])\n",
    "b = np.arange(4).reshape((2,2))\n",
    "\n",
    "c = a*b\n",
    "c_dot = np.dot(a,b)\n",
    "c_dot2 = a.dot(b)\n",
    "\n",
    "print(c)\n",
    "print(c_dot)\n",
    "print(c_dot2)"
   ]
  },
  {
   "cell_type": "code",
   "execution_count": 17,
   "id": "7b82b188-f0de-4275-a841-63f93e4b514c",
   "metadata": {},
   "outputs": [
    {
     "name": "stdout",
     "output_type": "stream",
     "text": [
      "[[0.24219398 0.08160744 0.36710538 0.76826209]\n",
      " [0.14026006 0.84373374 0.09562291 0.40748843]]\n",
      "[0.38245405 0.92534118 0.4627283  1.17575051]\n",
      "[0.24219398 0.84373374 0.36710538 0.76826209]\n",
      "[0.08160744 0.09562291]\n",
      "[[0.08160744 0.24219398 0.36710538 0.76826209]\n",
      " [0.09562291 0.14026006 0.40748843 0.84373374]]\n"
     ]
    }
   ],
   "source": [
    "#random, sum, min & max, sort\n",
    "import numpy as np\n",
    "\n",
    "a = np.random.random((2,4))\n",
    "\n",
    "print(a)\n",
    "#axis軸\n",
    "print(np.sum(a, axis=0))\n",
    "print(np.max(a, axis=0))\n",
    "print(np.min(a, axis=1))\n",
    "print(np.sort(a))"
   ]
  },
  {
   "cell_type": "code",
   "execution_count": 15,
   "id": "f7d7ddae-a3ee-45c8-8f18-6438e4b3d93f",
   "metadata": {},
   "outputs": [
    {
     "name": "stdout",
     "output_type": "stream",
     "text": [
      "[[ 2  3  4  5]\n",
      " [ 6  7  8  9]\n",
      " [10 11 12 13]]\n",
      "11\n",
      "0\n",
      "7.5\n",
      "7.5\n",
      "7.5\n",
      "[ 2  5  9 14 20 27 35 44 54 65 77 90]\n"
     ]
    }
   ],
   "source": [
    "#arg索引, mean, median\n",
    "import numpy as np\n",
    "\n",
    "a = np.arange(2,14).reshape(3,4)\n",
    "\n",
    "print(a)\n",
    "print(np.argmax(a))\n",
    "print(np.argmin(a))\n",
    "\n",
    "print(np.mean(a))\n",
    "print(a.mean())\n",
    "\n",
    "print(np.median(a))\n",
    "\n"
   ]
  },
  {
   "cell_type": "code",
   "execution_count": 22,
   "id": "388af2b1-c0c2-46e1-911e-77da74f3b67a",
   "metadata": {},
   "outputs": [
    {
     "name": "stdout",
     "output_type": "stream",
     "text": [
      "[ 2  5  9 14 20 27 35 44 54 65 77 90]\n",
      "[[1 1 1]\n",
      " [1 1 1]\n",
      " [1 1 1]]\n"
     ]
    }
   ],
   "source": [
    "#cumsum累加, diff前後差\n",
    "import numpy as np\n",
    "\n",
    "a = np.arange(2,14).reshape(3,4)\n",
    "\n",
    "print(np.cumsum(a))\n",
    "print(np.diff(a))"
   ]
  },
  {
   "cell_type": "code",
   "execution_count": 21,
   "id": "e3148e11-c2b6-48f9-afe5-4582a7e98823",
   "metadata": {},
   "outputs": [
    {
     "name": "stdout",
     "output_type": "stream",
     "text": [
      "[[ 2  6 10]\n",
      " [ 3  7 11]\n",
      " [ 4  8 12]\n",
      " [ 5  9 13]]\n",
      "[[ 2  6 10]\n",
      " [ 3  7 11]\n",
      " [ 4  8 12]\n",
      " [ 5  9 13]]\n",
      "[[140 158 176 194]\n",
      " [158 179 200 221]\n",
      " [176 200 224 248]\n",
      " [194 221 248 275]]\n",
      "[[5 5 5 5]\n",
      " [6 7 8 9]\n",
      " [9 9 9 9]]\n"
     ]
    }
   ],
   "source": [
    "#transpose轉置, clip限制\n",
    "import numpy as np\n",
    "\n",
    "a = np.arange(2,14).reshape(3,4)\n",
    "\n",
    "print(np.transpose(a))\n",
    "print(a.T)\n",
    "print(a.T.dot(a))\n",
    "\n",
    "print(np.clip(a, 5, 9))\n"
   ]
  },
  {
   "cell_type": "markdown",
   "id": "f709cc38-f4ce-42e4-b60e-272ea340291f",
   "metadata": {},
   "source": [
    "# array索引"
   ]
  },
  {
   "cell_type": "code",
   "execution_count": 28,
   "id": "a2521695-41bb-483e-b0ec-e9d8a8676f3b",
   "metadata": {},
   "outputs": [
    {
     "name": "stdout",
     "output_type": "stream",
     "text": [
      "5\n",
      "[[ 3  4  5  6]\n",
      " [ 7  8  9 10]\n",
      " [11 12 13 14]]\n",
      "[11 12 13 14]\n",
      "[11 12 13 14]\n",
      "12\n",
      "12\n"
     ]
    }
   ],
   "source": [
    "import numpy as np\n",
    "\n",
    "#list[2]\n",
    "a = np.arange(3,15)\n",
    "#row[2]\n",
    "b = np.arange(3,15).reshape(3,4)\n",
    "\n",
    "print(a[2])\n",
    "print(b)\n",
    "print(b[2])\n",
    "print(b[2,:])\n",
    "#row2,col1\n",
    "print(b[2][1])\n",
    "print(b[2,1])"
   ]
  },
  {
   "cell_type": "code",
   "execution_count": 30,
   "id": "8715f32e-c4fd-4228-8a62-0e5c20a71e64",
   "metadata": {},
   "outputs": [
    {
     "name": "stdout",
     "output_type": "stream",
     "text": [
      "[[ 3  4  5  6]\n",
      " [ 7  8  9 10]\n",
      " [11 12 13 14]]\n",
      "[3 4 5 6]\n",
      "[ 7  8  9 10]\n",
      "[11 12 13 14]\n",
      "[[ 3  7 11]\n",
      " [ 4  8 12]\n",
      " [ 5  9 13]\n",
      " [ 6 10 14]]\n",
      "[ 3  7 11]\n",
      "[ 4  8 12]\n",
      "[ 5  9 13]\n",
      "[ 6 10 14]\n"
     ]
    }
   ],
   "source": [
    "import numpy as np\n",
    "\n",
    "a = np.arange(3,15).reshape(3,4)\n",
    "print(a)\n",
    "for row in a:\n",
    "    print(row)\n",
    "\n",
    "print(a.T)\n",
    "for coloum in a.T:\n",
    "    print(coloum)"
   ]
  },
  {
   "cell_type": "code",
   "execution_count": 38,
   "id": "4fc83ecc-761a-489a-892a-dc7eab027c64",
   "metadata": {},
   "outputs": [
    {
     "name": "stdout",
     "output_type": "stream",
     "text": [
      "[ 3  4  5  6  7  8  9 10 11 12 13 14]\n",
      "3\n",
      "4\n",
      "5\n",
      "6\n",
      "7\n",
      "8\n",
      "9\n",
      "10\n",
      "11\n",
      "12\n",
      "13\n",
      "14\n"
     ]
    }
   ],
   "source": [
    "import numpy as np\n",
    "\n",
    "a = np.arange(3,15).reshape(3,4)\n",
    "print(a.flatten())\n",
    "for item in a.flat:\n",
    "    print(item)"
   ]
  },
  {
   "cell_type": "markdown",
   "id": "2bd79b0c-9a59-4ff4-a8db-c3b72f2cc7df",
   "metadata": {},
   "source": [
    "# array合併"
   ]
  },
  {
   "cell_type": "code",
   "execution_count": 43,
   "id": "c5032099-f872-4e84-9236-382e14805369",
   "metadata": {},
   "outputs": [
    {
     "name": "stdout",
     "output_type": "stream",
     "text": [
      "[[1 1 1]\n",
      " [2 2 2]]\n",
      "[1 1 1 2 2 2]\n",
      "shape c:(2, 3)\n",
      "shape d:(6,)\n"
     ]
    }
   ],
   "source": [
    "import numpy as np\n",
    "\n",
    "a = np.array([1,1,1])\n",
    "b = np.array([2,2,2])\n",
    "\n",
    "#stack裡面放tuple\n",
    "c = np.vstack((a,b)) #vertical stack\n",
    "d = np.hstack((a,b)) #horizontal stack\n",
    "\n",
    "print(c)\n",
    "print(d)\n",
    "print(f'shape c:{c.shape}')\n",
    "print(f'shape d:{d.shape}')"
   ]
  },
  {
   "cell_type": "code",
   "execution_count": 57,
   "id": "4a00ef84-23ba-427e-948e-27bd2e6e9645",
   "metadata": {},
   "outputs": [
    {
     "name": "stdout",
     "output_type": "stream",
     "text": [
      "[1 1 1]\n",
      "[[1]\n",
      " [1]\n",
      " [1]]\n",
      "shape at(3, 1)\n",
      "[[1]\n",
      " [1]\n",
      " [1]\n",
      " [2]\n",
      " [2]\n",
      " [2]]\n",
      "shape ct:(6, 1)\n",
      "[[1 2]\n",
      " [1 2]\n",
      " [1 2]]\n",
      "shape dt:(3, 2)\n",
      "[[1]\n",
      " [1]\n",
      " [1]]\n",
      "shape at2:(3, 1)\n"
     ]
    }
   ],
   "source": [
    "#newaxis 把橫向array立起來 \n",
    "import numpy as np\n",
    "\n",
    "a = np.array([1,1,1])\n",
    "b = np.array([2,2,2])\n",
    "print(a.T)\n",
    "\n",
    "at = a[:, np.newaxis]\n",
    "bt = b[:, np.newaxis]\n",
    "print(at)\n",
    "print(f'shape at{at.shape}')\n",
    "ct = np.vstack((at,bt))\n",
    "print(ct)\n",
    "print(f'shape ct:{ct.shape}')\n",
    "\n",
    "dt = np.hstack((at,bt))\n",
    "print(dt)\n",
    "print(f'shape dt:{dt.shape}')\n",
    "\n",
    "at2 = a.reshape(3,1)\n",
    "print(at2)\n",
    "print(f'shape at2:{at2.shape}')"
   ]
  },
  {
   "cell_type": "code",
   "execution_count": 59,
   "id": "d486d112-6fa3-4b3b-82ff-decb402f3acf",
   "metadata": {},
   "outputs": [
    {
     "name": "stdout",
     "output_type": "stream",
     "text": [
      "[[1 2 1]\n",
      " [1 2 1]\n",
      " [1 2 1]]\n"
     ]
    }
   ],
   "source": [
    "#concatenate大連接\n",
    "import numpy as np\n",
    "\n",
    "a = np.array([1,1,1])[:,np.newaxis]\n",
    "b = np.array([2,2,2])[:,np.newaxis]\n",
    "\n",
    "c = np.concatenate((a,b,a), axis=1)\n",
    "print(c)"
   ]
  }
 ],
 "metadata": {
  "kernelspec": {
   "display_name": "Python 3 (ipykernel)",
   "language": "python",
   "name": "python3"
  },
  "language_info": {
   "codemirror_mode": {
    "name": "ipython",
    "version": 3
   },
   "file_extension": ".py",
   "mimetype": "text/x-python",
   "name": "python",
   "nbconvert_exporter": "python",
   "pygments_lexer": "ipython3",
   "version": "3.9.16"
  }
 },
 "nbformat": 4,
 "nbformat_minor": 5
}
